{
  "cells": [
    {
      "cell_type": "markdown",
      "metadata": {
        "id": "fWIOZpZZbBQg"
      },
      "source": [
        "[![image](https://colab.research.google.com/assets/colab-badge.svg)](https://colab.research.google.com/github/giswqs/geog-312/blob/master/labs/lab_05.ipynb)\n",
        "[![image](https://binder.pangeo.io/badge_logo.svg)](https://gishub.org/geog312-pangeo)\n",
        "\n",
        "**Sam Kilgore**"
      ]
    },
    {
      "cell_type": "code",
      "execution_count": null,
      "metadata": {
        "id": "RMC8vSLnbBQh",
        "colab": {
          "base_uri": "https://localhost:8080/"
        },
        "outputId": "529b0eb5-d03a-4053-e13e-595a6b8fe232"
      },
      "outputs": [
        {
          "output_type": "stream",
          "name": "stdout",
          "text": [
            "Submitted time: 2023-09-26 02:58:44.852550\n"
          ]
        }
      ],
      "source": [
        "from datetime import datetime\n",
        "\n",
        "now = datetime.now()\n",
        "print(f\"Submitted time: {now}\")"
      ]
    },
    {
      "cell_type": "markdown",
      "metadata": {
        "id": "SYGAxmHzbBQj"
      },
      "source": [
        "## Question 1\n",
        "**Person:** Use a dictionary to store information about a person you know. Store their first name, last name, age, and the city in which they live. You should have keys such as first_name, last_name, age, and city. Print each piece of information stored in your dictionary."
      ]
    },
    {
      "cell_type": "code",
      "execution_count": null,
      "metadata": {
        "id": "vMuO6t9_bBQj",
        "colab": {
          "base_uri": "https://localhost:8080/"
        },
        "outputId": "27904e3a-377e-4407-a9d8-2defc21958f7"
      },
      "outputs": [
        {
          "output_type": "stream",
          "name": "stdout",
          "text": [
            "Gabe\n",
            "Kilgore\n",
            "23\n",
            "Chattanooga\n"
          ]
        }
      ],
      "source": [
        "Gabe = {'first_name':'Gabe', 'last_name':'Kilgore', 'age':23, 'city':'Chattanooga'}\n",
        "print(Gabe['first_name'])\n",
        "print(Gabe['last_name'])\n",
        "print(Gabe['age'])\n",
        "print(Gabe['city'])"
      ]
    },
    {
      "cell_type": "markdown",
      "metadata": {
        "id": "jTtmkpRJbBQj"
      },
      "source": [
        "## Question 2\n",
        "**Favorite Numbers:** Use a dictionary to store people’s favorite numbers. Think of five names, and use them as keys in your dictionary. Think of a favorite number for each person, and store each as a value in your dictionary. Print each person’s name and their favorite number. For even more fun, poll a few friends and get some actual data for your program."
      ]
    },
    {
      "cell_type": "code",
      "execution_count": null,
      "metadata": {
        "id": "m1BETyANbBQj",
        "colab": {
          "base_uri": "https://localhost:8080/"
        },
        "outputId": "960aacda-3631-4545-adec-abeab4cc6512"
      },
      "outputs": [
        {
          "output_type": "stream",
          "name": "stdout",
          "text": [
            "Jim's favorite number is 23.\n",
            "Elijah's favorite number is 9.\n",
            "Alex's favorite number is 4.\n",
            "Miles's favorite number is 42.\n",
            "Gwen's favorite number is 65.\n"
          ]
        }
      ],
      "source": [
        "fav_nums = {'Jim':23, 'Elijah':9, 'Alex':4, 'Miles':42, 'Gwen':65}\n",
        "\n",
        "for key, value in fav_nums.items():\n",
        "    print(f\"{key}'s favorite number is {value}.\")"
      ]
    },
    {
      "cell_type": "markdown",
      "metadata": {
        "id": "imI_lQrzbBQk"
      },
      "source": [
        "## Question 3\n",
        "**Glossary:** A Python dictionary can be used to model an actual dictionary. However, to avoid confusion, let’s call it a glossary.\n",
        "\n",
        "* Think of five programming words you’ve learned about in the previous chapters. Use these words as the keys in your glossary, and store their meanings as values.\n",
        "* Print each word and its meaning as neatly formatted output. You might print the word followed by a colon and then its meaning, or print the word on one line and then print its meaning indented on a second line. Use the newline character (\\n) to insert a blank line between each word-meaning pair in your output."
      ]
    },
    {
      "cell_type": "code",
      "execution_count": null,
      "metadata": {
        "id": "04_vEvHWbBQk",
        "colab": {
          "base_uri": "https://localhost:8080/"
        },
        "outputId": "f78fca54-f5a4-4da7-9115-9d60560002c2"
      },
      "outputs": [
        {
          "output_type": "stream",
          "name": "stdout",
          "text": [
            "List: a series of 0 or more elements, such as strings or numbers \n",
            "\n",
            "String: an element composed of characters \n",
            "\n",
            "For Loop: used for performing operations over a sequence one element at a time \n",
            "\n",
            "If Statement: performs a command when a certain condition is true \n",
            "\n",
            "Boolean: a binary data type that can be true or false \n",
            "\n"
          ]
        }
      ],
      "source": [
        "glossary = {'list': 'a series of 0 or more elements, such as strings or numbers',\n",
        "            'string':'an element composed of characters',\n",
        "            'for loop': 'used for performing operations over a sequence one element at a time',\n",
        "            'if statement': 'performs a command when a certain condition is true',\n",
        "            'Boolean': 'a binary data type that can be true or false'}\n",
        "word = 'list'\n",
        "print(f\"{word.title()}: {glossary[word]} \\n\")\n",
        "word = 'string'\n",
        "print(f\"{word.title()}: {glossary[word]} \\n\")\n",
        "word = 'for loop'\n",
        "print(f\"{word.title()}: {glossary[word]} \\n\")\n",
        "word = 'if statement'\n",
        "print(f\"{word.title()}: {glossary[word]} \\n\")\n",
        "word = 'Boolean'\n",
        "print(f\"{word.title()}: {glossary[word]} \\n\")"
      ]
    },
    {
      "cell_type": "markdown",
      "metadata": {
        "id": "y3cBX0ONbBQk"
      },
      "source": [
        "## Question 4\n",
        "**Glossary 2:** Now that you know how to loop through a dictionary, clean up the code from Question 3 by replacing your series of print() calls with a loop that runs through the dictionary’s keys and values. When you’re sure that your loop works, add five more Python terms to your glossary. When you run your program again, these new words and meanings should automatically be included in the output."
      ]
    },
    {
      "cell_type": "code",
      "execution_count": null,
      "metadata": {
        "id": "o_Fg2I0nbBQk",
        "colab": {
          "base_uri": "https://localhost:8080/"
        },
        "outputId": "796e1fc5-e5b0-4351-d5c7-a4d26e8fd3b0"
      },
      "outputs": [
        {
          "output_type": "stream",
          "name": "stdout",
          "text": [
            "list: a series of 0 or more elements, such as strings or numbers \n",
            "\n",
            "string: an element composed of characters \n",
            "\n",
            "for loop: used for performing operations over a sequence one element at a time \n",
            "\n",
            "if statement: performs a command when a certain condition is true \n",
            "\n",
            "Boolean: a binary data type that can be true or false \n",
            "\n",
            "dictionary: a collection of key-value pairs \n",
            "\n",
            "comment: a note added within the code that does not affect how it runs \n",
            "\n",
            "interger: a whole number \n",
            "\n",
            "float: a number with finite decimals \n",
            "\n",
            "Python: a programming language \n",
            "\n"
          ]
        }
      ],
      "source": [
        "glossary = {'list': 'a series of 0 or more elements, such as strings or numbers',\n",
        "            'string':'an element composed of characters',\n",
        "            'for loop': 'used for performing operations over a sequence one element at a time',\n",
        "            'if statement': 'performs a command when a certain condition is true',\n",
        "            'Boolean': 'a binary data type that can be true or false',\n",
        "\n",
        "            'dictionary': 'a collection of key-value pairs',\n",
        "            'comment': 'a note added within the code that does not affect how it runs',\n",
        "            'interger': 'a whole number',\n",
        "            'float': 'a number with finite decimals',\n",
        "            'Python': 'a programming language'\n",
        "          }\n",
        "for key, value in glossary.items():\n",
        "  print(f\"{key}: {value} \\n\")"
      ]
    },
    {
      "cell_type": "markdown",
      "metadata": {
        "id": "97VBFikJbBQk"
      },
      "source": [
        "## Question 5\n",
        "**Rivers:** Make a dictionary containing three major rivers and the country each river runs through. One key-value pair might be 'nile': 'egypt'.\n",
        "\n",
        "* Use a loop to print a sentence about each river, such as *The Nile runs through Egypt.*\n",
        "* Use a loop to print the name of each river included in the dictionary.\n",
        "* Use a loop to print the name of each country included in the dictionary."
      ]
    },
    {
      "cell_type": "code",
      "execution_count": null,
      "metadata": {
        "id": "AXPCXwWYbBQl",
        "colab": {
          "base_uri": "https://localhost:8080/"
        },
        "outputId": "7169d5e0-49db-400e-cbb2-400c4fcfcba2"
      },
      "outputs": [
        {
          "output_type": "stream",
          "name": "stdout",
          "text": [
            "Part or all of the Rhine runs through Switzerland.\n",
            "Part or all of the Rio Grande runs through Mexico.\n",
            "Part or all of the Mississippi runs through the United States.\n",
            "\n",
            "\n",
            "Rhine\n",
            "Rio Grande\n",
            "Mississippi\n",
            "\n",
            "\n",
            "Switzerland\n",
            "Mexico\n",
            "the United States\n"
          ]
        }
      ],
      "source": [
        "rivers = {'Rhine': 'Switzerland', 'Rio Grande': 'Mexico', 'Mississippi': 'the United States'}\n",
        "for river, country in rivers.items():\n",
        "  print(f\"Part or all of the {river} runs through {country}.\")\n",
        "\n",
        "print(\"\\n\")\n",
        "\n",
        "for river in rivers.keys():\n",
        "  print(river)\n",
        "\n",
        "print(\"\\n\")\n",
        "\n",
        "for country in rivers.values():\n",
        "  print(country)"
      ]
    },
    {
      "cell_type": "markdown",
      "metadata": {
        "id": "KkK9C9PKbBQl"
      },
      "source": [
        "## Question 6\n",
        "**Polling:** Based on the dictionary below (i.e., favorite_languages):\n",
        "\n",
        "* Make a list of people who should take the favorite languages poll. Include some names that are already in the dictionary and some that are not.\n",
        "* Loop through the list of people who should take the poll. If they have already taken the poll, print a message thanking them for responding. If they have not yet taken the poll, print a message inviting them to take the poll."
      ]
    },
    {
      "cell_type": "code",
      "execution_count": null,
      "metadata": {
        "id": "ywWJxiRVbBQl",
        "colab": {
          "base_uri": "https://localhost:8080/"
        },
        "outputId": "5c37c0b1-657d-4daa-ce71-25118d7198ca"
      },
      "outputs": [
        {
          "output_type": "stream",
          "name": "stdout",
          "text": [
            "Thank you for responding.\n",
            "Thank you for responding.\n",
            "Thank you for responding.\n",
            "Hello, sam, we would like to invite you to take our poll.\n",
            "Hello, bud, we would like to invite you to take our poll.\n"
          ]
        }
      ],
      "source": [
        "favorite_languages = {\n",
        "    'jen': 'python',\n",
        "    'sarah': 'c',\n",
        "    'edward': 'ruby',\n",
        "    'phil': 'python',\n",
        "    }\n",
        "\n",
        "people = ['jen', 'sarah', 'edward', 'sam', 'bud']\n",
        "\n",
        "for person in people:\n",
        "  if person in favorite_languages.keys():\n",
        "    print(\"Thank you for responding.\")\n",
        "  else:\n",
        "    print(f\"Hello, {person}, we would like to invite you to take our poll.\")"
      ]
    },
    {
      "cell_type": "markdown",
      "metadata": {
        "id": "6vlcze7JbBQm"
      },
      "source": []
    },
    {
      "cell_type": "markdown",
      "metadata": {
        "id": "6mD3R8tLbBQm"
      },
      "source": [
        "## Question 7\n",
        "**People:** Start with the program you wrote for Question 1. Make two new dictionaries representing different people, and store all three dictionaries in a list called `people`. Loop through your list of people. As you loop through the list, print everything you know about each person."
      ]
    },
    {
      "cell_type": "code",
      "execution_count": null,
      "metadata": {
        "id": "hogGw3HlbBQm",
        "colab": {
          "base_uri": "https://localhost:8080/"
        },
        "outputId": "59f6e8ff-f127-4727-f044-810493a81bb8"
      },
      "outputs": [
        {
          "output_type": "stream",
          "name": "stdout",
          "text": [
            "Gabe Kilgore is from the city of Chattanooga. They are 23 years old.\n",
            "Will Smith is from the city of Philadelphia. They are 55 years old.\n",
            "Mariah Carey is from the city of Huntington. They are 54 years old.\n"
          ]
        }
      ],
      "source": [
        "Gabe = {'first_name':'Gabe', 'last_name':'Kilgore', 'age':23, 'city':'Chattanooga'}\n",
        "Will = {'first_name':'Will', 'last_name':'Smith', 'age':55, 'city':'Philadelphia'}\n",
        "Mariah = {'first_name':'Mariah', 'last_name':'Carey', 'age':54, 'city':'Huntington'}\n",
        "\n",
        "people = [Gabe, Will, Mariah]\n",
        "\n",
        "for person in people:\n",
        "  print(f\"{person['first_name']} {person['last_name']} is from the city of {person['city']}. They are {person['age']} years old.\")\n",
        "\n"
      ]
    },
    {
      "cell_type": "markdown",
      "metadata": {
        "id": "OPAq1HpybBQm"
      },
      "source": [
        "## Question 8\n",
        "**Pets:** Make several dictionaries, where each dictionary represents a different pet. In each dictionary, include the kind of animal and the owner’s name. Store these dictionaries in a list called `pets`. Next, loop through your list and as you do, print everything you know about each pet."
      ]
    },
    {
      "cell_type": "code",
      "execution_count": null,
      "metadata": {
        "id": "UJEb8CwIbBQm",
        "colab": {
          "base_uri": "https://localhost:8080/"
        },
        "outputId": "707f070e-9750-41e2-9ae6-7aec39824e1b"
      },
      "outputs": [
        {
          "output_type": "stream",
          "name": "stdout",
          "text": [
            "cat; Sam\n",
            "turtle; Sylvester\n",
            "turtle; Sylvester\n",
            "dog; Obama\n",
            "falcon; Sam\n"
          ]
        }
      ],
      "source": [
        "Moose = {'kind':'cat', 'owner':'Sam'}\n",
        "Cuff = {'kind':'turtle', 'owner':'Sylvester'}\n",
        "Link = {'kind':'turtle', 'owner':'Sylvester'}\n",
        "BO = {'kind':'dog', 'owner':'Obama'}\n",
        "Redwing = {'kind':'falcon', 'owner':'Sam'}\n",
        "\n",
        "pets = [Moose, Cuff, Link, BO, Redwing]\n",
        "\n",
        "for pet in pets:\n",
        "  print(f\"{pet['kind']}; {pet['owner']}\")"
      ]
    },
    {
      "cell_type": "markdown",
      "metadata": {
        "id": "uzYMaQDZbBQm"
      },
      "source": [
        "## Question 9\n",
        "**Favorite Places:** Make a dictionary called `favorite_places`. Think of three names to use as keys in the dictionary, and store one to three favorite places for each person. To make this exercise a bit more interesting, ask some friends to name a few of their favorite places. Loop through the dictionary, and print each person’s name and their favorite places."
      ]
    },
    {
      "cell_type": "code",
      "execution_count": null,
      "metadata": {
        "id": "947T5xCmbBQn",
        "colab": {
          "base_uri": "https://localhost:8080/"
        },
        "outputId": "58fdae49-54ed-4199-83ba-d63300ecae59"
      },
      "outputs": [
        {
          "output_type": "stream",
          "name": "stdout",
          "text": [
            "Sam:\n",
            "  Knoxville\n",
            "  Miami\n",
            "  Kansas City\n",
            "Kyle:\n",
            "  Chattanooga\n",
            "  Granada\n",
            "  Nashville\n",
            "  Asheville\n",
            "  Portland\n",
            "Rex:\n",
            "  Dallas\n"
          ]
        }
      ],
      "source": [
        "favorite_places = {'Sam':['Knoxville', 'Miami', 'Kansas City'],\n",
        "                   'Kyle':['Chattanooga', 'Granada', 'Nashville', 'Asheville', 'Portland'],\n",
        "                   'Rex':['Dallas']}\n",
        "for key, values in favorite_places.items():\n",
        "  print(f\"{key}:\")\n",
        "  for value in values:\n",
        "    print(f\"  {value}\")"
      ]
    },
    {
      "cell_type": "markdown",
      "metadata": {
        "id": "Jm_3GLrlbBQn"
      },
      "source": [
        "## Question 10\n",
        "**Favorite Numbers:** Modify your program from Question 2 so each person can have more than one favorite number. Then print each person’s name along with their favorite numbers."
      ]
    },
    {
      "cell_type": "code",
      "execution_count": null,
      "metadata": {
        "id": "xC66EerNbBQn",
        "colab": {
          "base_uri": "https://localhost:8080/"
        },
        "outputId": "fcc336f4-17b9-4dae-ab15-4c1a52b430e6"
      },
      "outputs": [
        {
          "output_type": "stream",
          "name": "stdout",
          "text": [
            "Jim's favorite numbers are:\n",
            "  23\n",
            "  3.2\n",
            "  4\n",
            "  4.5\n",
            "Elijah's favorite numbers are:\n",
            "  9\n",
            "  12\n",
            "  13\n",
            "  14\n",
            "  15\n",
            "  16\n",
            "Alex's favorite numbers are:\n",
            "  4\n",
            "  1\n",
            "Miles's favorite numbers are:\n",
            "  42\n",
            "  0\n",
            "Gwen's favorite numbers are:\n",
            "  65\n",
            "  -1\n"
          ]
        }
      ],
      "source": [
        "fav_nums = {'Jim':[23,3.2,4,4.5], 'Elijah':[9,12,13,14,15,16], 'Alex':[4,1], 'Miles':[42,0], 'Gwen':[65,-1]}\n",
        "\n",
        "for key, values in fav_nums.items():\n",
        "    print(f\"{key}'s favorite numbers are:\")\n",
        "    for value in values:\n",
        "      print(f\"  {value}\")\n",
        "\n"
      ]
    },
    {
      "cell_type": "markdown",
      "metadata": {
        "id": "LP8b9SkybBQo"
      },
      "source": [
        "## Question 11\n",
        "**Cities:** Make a dictionary called `cities`. Use the names of three cities as keys in your dictionary. Create a dictionary of information about each city and include the country that the city is in, its approximate population, and one fact about that city. The keys for each city’s dictionary should be something like `country`, `population`, and `fact`. Print the name of each city and all of the information you have stored about it."
      ]
    },
    {
      "cell_type": "code",
      "execution_count": null,
      "metadata": {
        "id": "FRL3WJ3mbBQo",
        "colab": {
          "base_uri": "https://localhost:8080/"
        },
        "outputId": "f062d03f-31c2-453c-aac8-bf6d2ff57bb6"
      },
      "outputs": [
        {
          "output_type": "stream",
          "name": "stdout",
          "text": [
            "Dallas\n",
            "\tCountry: United States\n",
            "\tPopulation: 1288000\n",
            "\tFurther info: It is the twin city of Fort Worth.\n",
            "Barcelona\n",
            "\tCountry: Spain\n",
            "\tPopulation: 1620000\n",
            "\tFurther info: It was once the capital of Spain.\n",
            "Mexico City\n",
            "\tCountry: Mexico\n",
            "\tPopulation: 8855000\n",
            "\tFurther info: It is the oldest city in North America.\n"
          ]
        }
      ],
      "source": [
        "cities = {'Dallas':\n",
        "            {'country':'United States',\n",
        "             'population':1288000,\n",
        "             'fact': 'It is the twin city of Fort Worth.'},\n",
        "          'Barcelona':\n",
        "            {'country':'Spain',\n",
        "             'population':1620000,\n",
        "             'fact':'It was once the capital of Spain.'},\n",
        "          'Mexico City':\n",
        "            {'country':'Mexico',\n",
        "             'population':8855000,\n",
        "             'fact':'It is the oldest city in North America.'}\n",
        "          }\n",
        "for city, cityinfo in cities.items():\n",
        "  print(city)\n",
        "  print(f\"\\tCountry: {cityinfo['country']}\")\n",
        "  print(f\"\\tPopulation: {cityinfo['population']}\")\n",
        "  print(f\"\\tFurther info: {cityinfo['fact']}\")"
      ]
    },
    {
      "cell_type": "markdown",
      "metadata": {
        "id": "u6G9dC4TbBQo"
      },
      "source": [
        "## Question 12\n",
        "**Extensions:** We’re now working with examples that are complex enough that they can be extended in any number of ways. Use one of the example programs from this chapter, and extend it by adding new keys and values, changing the context of the program or improving the formatting of the output."
      ]
    },
    {
      "cell_type": "code",
      "execution_count": 30,
      "metadata": {
        "id": "eZMa0Z4tbBQo",
        "colab": {
          "base_uri": "https://localhost:8080/"
        },
        "outputId": "48b8b231-1158-40bf-9d0b-637804d2ec37"
      },
      "outputs": [
        {
          "output_type": "stream",
          "name": "stdout",
          "text": [
            "The Rhine is a river that flows through Switzerland, Germany, France, Liechtenstein, Austria, and the Netherlands. It is 766.2 miles long.\n",
            "The Rio Grande is a river that flows through the United States and Mexico. It is 1885 miles long.\n",
            "The Mississippi is a river that flows through the United States and Canada. It is 2340 miles long.\n"
          ]
        }
      ],
      "source": [
        "rivers = {'Rhine':\n",
        "            {'countries':['Switzerland', 'Germany','France','Liechtenstein','Austria','the Netherlands'],\n",
        "             'length':766.2},\n",
        "          'Rio Grande':\n",
        "            {'countries':['the United States','Mexico'],\n",
        "             'length':1885},\n",
        "          'Mississippi':\n",
        "            {'countries':['the United States','Canada'],\n",
        "             'length':2340}\n",
        "         }\n",
        "\n",
        "for river, dicts in rivers.items():\n",
        "  output = f\"The {river} is a river that flows through\"\n",
        "  if(len(dicts['countries']) == 2):\n",
        "    temp_list = dicts['countries']\n",
        "    output = f\"{output} {temp_list[0]} and {temp_list[1]}.\"\n",
        "  elif(len(dicts['countries']) > 2):\n",
        "    temp_list = dicts['countries']\n",
        "    temp_last = dicts['countries']\n",
        "    temp_last = temp_last[len(temp_last)-1]\n",
        "    temp_list.pop()\n",
        "    for country in temp_list:\n",
        "      output = f\"{output} {country},\"\n",
        "    output = f\"{output} and {temp_last}.\"\n",
        "  output = f\"{output} It is {dicts['length']} miles long.\"\n",
        "  print(output)"
      ]
    },
    {
      "cell_type": "markdown",
      "metadata": {
        "id": "jjKl1h0-bBQp"
      },
      "source": [
        "## Question 13\n",
        "**Rental Car:** Write a program that asks the user what kind of rental car they would like. Print a message about that car, such as “Let me see if I can find you a Subaru.”"
      ]
    },
    {
      "cell_type": "code",
      "execution_count": 34,
      "metadata": {
        "id": "9Bej1b-EbBQp",
        "colab": {
          "base_uri": "https://localhost:8080/"
        },
        "outputId": "aae70931-8e16-46f4-908e-430faa26d979"
      },
      "outputs": [
        {
          "output_type": "stream",
          "name": "stdout",
          "text": [
            "What kind of car would you like? Versa\n",
            "Let me see if we have a Versa available.\n"
          ]
        }
      ],
      "source": [
        "car = input(\"What kind of car would you like? \")\n",
        "print(f\"Let me see if we have a {car} available.\")"
      ]
    },
    {
      "cell_type": "markdown",
      "metadata": {
        "id": "gRT8QotwbBQp"
      },
      "source": [
        "## Question 14\n",
        "**Restaurant Seating:** Write a program that asks the user how many people are in their dinner group. If the answer is more than eight, print a message saying they’ll have to wait for a table. Otherwise, report that their table is ready."
      ]
    },
    {
      "cell_type": "code",
      "execution_count": 38,
      "metadata": {
        "id": "5-UCDJghbBQp",
        "colab": {
          "base_uri": "https://localhost:8080/"
        },
        "outputId": "3b0fdc40-1f54-48f9-c52e-f697540e9259"
      },
      "outputs": [
        {
          "output_type": "stream",
          "name": "stdout",
          "text": [
            "How many people will be in your dinner group?100\n",
            "For that party size, there will be a wait.\n"
          ]
        }
      ],
      "source": [
        "dinner = input(\"How many people will be in your dinner group?\")\n",
        "dinner = int(dinner)\n",
        "if(dinner > 8):\n",
        "  print(\"For that party size, there will be a wait.\")\n",
        "else:\n",
        "  print(\"Your table is ready.\")"
      ]
    },
    {
      "cell_type": "markdown",
      "metadata": {
        "id": "UvVjq525bBQp"
      },
      "source": [
        "## Question 15\n",
        "**Multiples of Ten:** Ask the user for a number, and then report whether the number is a multiple of 10 or not."
      ]
    },
    {
      "cell_type": "code",
      "execution_count": 42,
      "metadata": {
        "id": "RogYFZ0qbBQq",
        "colab": {
          "base_uri": "https://localhost:8080/"
        },
        "outputId": "38fd02b2-9d2a-47d2-8173-fc3536a18469"
      },
      "outputs": [
        {
          "output_type": "stream",
          "name": "stdout",
          "text": [
            "Enter a number: 100\n",
            "This number is a multiple of 10.\n"
          ]
        }
      ],
      "source": [
        "number = input(\"Enter a number: \")\n",
        "number = int(number)\n",
        "if(number % 10 == 0):\n",
        "  print(\"This number is a multiple of 10.\")\n",
        "else:\n",
        "  print(\"This number is not a multiple of 10.\")"
      ]
    },
    {
      "cell_type": "markdown",
      "metadata": {
        "id": "YVEQVljUbBQq"
      },
      "source": [
        "## Question 16\n",
        "**Pizza Toppings:** Write a loop that prompts the user to enter a series of pizza toppings until they enter a 'quit' value. As they enter each topping, print a message saying you’ll add that topping to their pizza."
      ]
    },
    {
      "cell_type": "code",
      "execution_count": 47,
      "metadata": {
        "id": "7IPIihkIbBQq",
        "colab": {
          "base_uri": "https://localhost:8080/",
          "height": 495
        },
        "outputId": "f4c9e581-4870-445f-d238-8097ab5f89cc"
      },
      "outputs": [
        {
          "output_type": "stream",
          "name": "stdout",
          "text": [
            "What toppings would you like?f\n",
            "I'll put f on your pizza now.\n",
            "\n",
            "What else would you like to add?adewkjdb\n",
            "I'll put adewkjdb on your pizza now.\n",
            "\n"
          ]
        },
        {
          "output_type": "error",
          "ename": "KeyboardInterrupt",
          "evalue": "ignored",
          "traceback": [
            "\u001b[0;31m---------------------------------------------------------------------------\u001b[0m",
            "\u001b[0;31mKeyboardInterrupt\u001b[0m                         Traceback (most recent call last)",
            "\u001b[0;32m<ipython-input-47-2f49935285b6>\u001b[0m in \u001b[0;36m<cell line: 3>\u001b[0;34m()\u001b[0m\n\u001b[1;32m      2\u001b[0m \u001b[0mmessage\u001b[0m \u001b[0;34m=\u001b[0m\u001b[0;34m\"\"\u001b[0m\u001b[0;34m\u001b[0m\u001b[0;34m\u001b[0m\u001b[0m\n\u001b[1;32m      3\u001b[0m \u001b[0;32mwhile\u001b[0m \u001b[0mmessage\u001b[0m \u001b[0;34m!=\u001b[0m \u001b[0;34m'quit'\u001b[0m\u001b[0;34m:\u001b[0m\u001b[0;34m\u001b[0m\u001b[0;34m\u001b[0m\u001b[0m\n\u001b[0;32m----> 4\u001b[0;31m   \u001b[0mmessage\u001b[0m \u001b[0;34m=\u001b[0m \u001b[0minput\u001b[0m\u001b[0;34m(\u001b[0m\u001b[0mprompt\u001b[0m\u001b[0;34m)\u001b[0m\u001b[0;34m\u001b[0m\u001b[0;34m\u001b[0m\u001b[0m\n\u001b[0m\u001b[1;32m      5\u001b[0m   \u001b[0mprompt\u001b[0m \u001b[0;34m=\u001b[0m \u001b[0;34m\"What else would you like to add?\"\u001b[0m\u001b[0;34m\u001b[0m\u001b[0;34m\u001b[0m\u001b[0m\n\u001b[1;32m      6\u001b[0m   \u001b[0;32mif\u001b[0m\u001b[0;34m(\u001b[0m\u001b[0mmessage\u001b[0m \u001b[0;34m!=\u001b[0m \u001b[0;34m'quit'\u001b[0m\u001b[0;34m)\u001b[0m\u001b[0;34m:\u001b[0m\u001b[0;34m\u001b[0m\u001b[0;34m\u001b[0m\u001b[0m\n",
            "\u001b[0;32m/usr/local/lib/python3.10/dist-packages/ipykernel/kernelbase.py\u001b[0m in \u001b[0;36mraw_input\u001b[0;34m(self, prompt)\u001b[0m\n\u001b[1;32m    849\u001b[0m                 \u001b[0;34m\"raw_input was called, but this frontend does not support input requests.\"\u001b[0m\u001b[0;34m\u001b[0m\u001b[0;34m\u001b[0m\u001b[0m\n\u001b[1;32m    850\u001b[0m             )\n\u001b[0;32m--> 851\u001b[0;31m         return self._input_request(str(prompt),\n\u001b[0m\u001b[1;32m    852\u001b[0m             \u001b[0mself\u001b[0m\u001b[0;34m.\u001b[0m\u001b[0m_parent_ident\u001b[0m\u001b[0;34m,\u001b[0m\u001b[0;34m\u001b[0m\u001b[0;34m\u001b[0m\u001b[0m\n\u001b[1;32m    853\u001b[0m             \u001b[0mself\u001b[0m\u001b[0;34m.\u001b[0m\u001b[0m_parent_header\u001b[0m\u001b[0;34m,\u001b[0m\u001b[0;34m\u001b[0m\u001b[0;34m\u001b[0m\u001b[0m\n",
            "\u001b[0;32m/usr/local/lib/python3.10/dist-packages/ipykernel/kernelbase.py\u001b[0m in \u001b[0;36m_input_request\u001b[0;34m(self, prompt, ident, parent, password)\u001b[0m\n\u001b[1;32m    893\u001b[0m             \u001b[0;32mexcept\u001b[0m \u001b[0mKeyboardInterrupt\u001b[0m\u001b[0;34m:\u001b[0m\u001b[0;34m\u001b[0m\u001b[0;34m\u001b[0m\u001b[0m\n\u001b[1;32m    894\u001b[0m                 \u001b[0;31m# re-raise KeyboardInterrupt, to truncate traceback\u001b[0m\u001b[0;34m\u001b[0m\u001b[0;34m\u001b[0m\u001b[0m\n\u001b[0;32m--> 895\u001b[0;31m                 \u001b[0;32mraise\u001b[0m \u001b[0mKeyboardInterrupt\u001b[0m\u001b[0;34m(\u001b[0m\u001b[0;34m\"Interrupted by user\"\u001b[0m\u001b[0;34m)\u001b[0m \u001b[0;32mfrom\u001b[0m \u001b[0;32mNone\u001b[0m\u001b[0;34m\u001b[0m\u001b[0;34m\u001b[0m\u001b[0m\n\u001b[0m\u001b[1;32m    896\u001b[0m             \u001b[0;32mexcept\u001b[0m \u001b[0mException\u001b[0m \u001b[0;32mas\u001b[0m \u001b[0me\u001b[0m\u001b[0;34m:\u001b[0m\u001b[0;34m\u001b[0m\u001b[0;34m\u001b[0m\u001b[0m\n\u001b[1;32m    897\u001b[0m                 \u001b[0mself\u001b[0m\u001b[0;34m.\u001b[0m\u001b[0mlog\u001b[0m\u001b[0;34m.\u001b[0m\u001b[0mwarning\u001b[0m\u001b[0;34m(\u001b[0m\u001b[0;34m\"Invalid Message:\"\u001b[0m\u001b[0;34m,\u001b[0m \u001b[0mexc_info\u001b[0m\u001b[0;34m=\u001b[0m\u001b[0;32mTrue\u001b[0m\u001b[0;34m)\u001b[0m\u001b[0;34m\u001b[0m\u001b[0;34m\u001b[0m\u001b[0m\n",
            "\u001b[0;31mKeyboardInterrupt\u001b[0m: Interrupted by user"
          ]
        }
      ],
      "source": [
        "prompt = \"What toppings would you like?\"\n",
        "message =\"\"\n",
        "while message != 'quit':\n",
        "  message = input(prompt)\n",
        "  prompt = \"What else would you like to add?\"\n",
        "  if(message != 'quit'):\n",
        "    print(f\"I'll put {message} on your pizza now.\\n\")"
      ]
    },
    {
      "cell_type": "markdown",
      "metadata": {
        "id": "O-YOihvXbBQq"
      },
      "source": [
        "## Question 17\n",
        "**Movie Tickets:** A movie theater charges different ticket prices depending on a person’s age. If a person is under the age of 3, the ticket is free; if they are between 3 and 12, the ticket is \\\\$10; and if they are over age 12, the ticket is $15. Write a loop in which you ask users their age, and then tell them the cost of their movie ticket."
      ]
    },
    {
      "cell_type": "code",
      "execution_count": 51,
      "metadata": {
        "id": "3URRS1bTbBQq",
        "colab": {
          "base_uri": "https://localhost:8080/",
          "height": 391
        },
        "outputId": "301f38ea-5929-4c4a-8556-fda6222b2651"
      },
      "outputs": [
        {
          "output_type": "error",
          "ename": "KeyboardInterrupt",
          "evalue": "ignored",
          "traceback": [
            "\u001b[0;31m---------------------------------------------------------------------------\u001b[0m",
            "\u001b[0;31mKeyboardInterrupt\u001b[0m                         Traceback (most recent call last)",
            "\u001b[0;32m<ipython-input-51-71a991e17258>\u001b[0m in \u001b[0;36m<cell line: 4>\u001b[0;34m()\u001b[0m\n\u001b[1;32m      3\u001b[0m \u001b[0;34m\u001b[0m\u001b[0m\n\u001b[1;32m      4\u001b[0m \u001b[0;32mwhile\u001b[0m \u001b[0;32mTrue\u001b[0m\u001b[0;34m:\u001b[0m\u001b[0;34m\u001b[0m\u001b[0;34m\u001b[0m\u001b[0m\n\u001b[0;32m----> 5\u001b[0;31m   \u001b[0mage\u001b[0m \u001b[0;34m=\u001b[0m \u001b[0minput\u001b[0m\u001b[0;34m(\u001b[0m\u001b[0mprompt\u001b[0m\u001b[0;34m)\u001b[0m\u001b[0;34m\u001b[0m\u001b[0;34m\u001b[0m\u001b[0m\n\u001b[0m\u001b[1;32m      6\u001b[0m   \u001b[0;32mif\u001b[0m\u001b[0;34m(\u001b[0m\u001b[0mage\u001b[0m \u001b[0;34m==\u001b[0m \u001b[0;34m'quit'\u001b[0m\u001b[0;34m)\u001b[0m\u001b[0;34m:\u001b[0m\u001b[0;34m\u001b[0m\u001b[0;34m\u001b[0m\u001b[0m\n\u001b[1;32m      7\u001b[0m     \u001b[0;32mbreak\u001b[0m\u001b[0;34m\u001b[0m\u001b[0;34m\u001b[0m\u001b[0m\n",
            "\u001b[0;32m/usr/local/lib/python3.10/dist-packages/ipykernel/kernelbase.py\u001b[0m in \u001b[0;36mraw_input\u001b[0;34m(self, prompt)\u001b[0m\n\u001b[1;32m    849\u001b[0m                 \u001b[0;34m\"raw_input was called, but this frontend does not support input requests.\"\u001b[0m\u001b[0;34m\u001b[0m\u001b[0;34m\u001b[0m\u001b[0m\n\u001b[1;32m    850\u001b[0m             )\n\u001b[0;32m--> 851\u001b[0;31m         return self._input_request(str(prompt),\n\u001b[0m\u001b[1;32m    852\u001b[0m             \u001b[0mself\u001b[0m\u001b[0;34m.\u001b[0m\u001b[0m_parent_ident\u001b[0m\u001b[0;34m,\u001b[0m\u001b[0;34m\u001b[0m\u001b[0;34m\u001b[0m\u001b[0m\n\u001b[1;32m    853\u001b[0m             \u001b[0mself\u001b[0m\u001b[0;34m.\u001b[0m\u001b[0m_parent_header\u001b[0m\u001b[0;34m,\u001b[0m\u001b[0;34m\u001b[0m\u001b[0;34m\u001b[0m\u001b[0m\n",
            "\u001b[0;32m/usr/local/lib/python3.10/dist-packages/ipykernel/kernelbase.py\u001b[0m in \u001b[0;36m_input_request\u001b[0;34m(self, prompt, ident, parent, password)\u001b[0m\n\u001b[1;32m    893\u001b[0m             \u001b[0;32mexcept\u001b[0m \u001b[0mKeyboardInterrupt\u001b[0m\u001b[0;34m:\u001b[0m\u001b[0;34m\u001b[0m\u001b[0;34m\u001b[0m\u001b[0m\n\u001b[1;32m    894\u001b[0m                 \u001b[0;31m# re-raise KeyboardInterrupt, to truncate traceback\u001b[0m\u001b[0;34m\u001b[0m\u001b[0;34m\u001b[0m\u001b[0m\n\u001b[0;32m--> 895\u001b[0;31m                 \u001b[0;32mraise\u001b[0m \u001b[0mKeyboardInterrupt\u001b[0m\u001b[0;34m(\u001b[0m\u001b[0;34m\"Interrupted by user\"\u001b[0m\u001b[0;34m)\u001b[0m \u001b[0;32mfrom\u001b[0m \u001b[0;32mNone\u001b[0m\u001b[0;34m\u001b[0m\u001b[0;34m\u001b[0m\u001b[0m\n\u001b[0m\u001b[1;32m    896\u001b[0m             \u001b[0;32mexcept\u001b[0m \u001b[0mException\u001b[0m \u001b[0;32mas\u001b[0m \u001b[0me\u001b[0m\u001b[0;34m:\u001b[0m\u001b[0;34m\u001b[0m\u001b[0;34m\u001b[0m\u001b[0m\n\u001b[1;32m    897\u001b[0m                 \u001b[0mself\u001b[0m\u001b[0;34m.\u001b[0m\u001b[0mlog\u001b[0m\u001b[0;34m.\u001b[0m\u001b[0mwarning\u001b[0m\u001b[0;34m(\u001b[0m\u001b[0;34m\"Invalid Message:\"\u001b[0m\u001b[0;34m,\u001b[0m \u001b[0mexc_info\u001b[0m\u001b[0;34m=\u001b[0m\u001b[0;32mTrue\u001b[0m\u001b[0;34m)\u001b[0m\u001b[0;34m\u001b[0m\u001b[0;34m\u001b[0m\u001b[0m\n",
            "\u001b[0;31mKeyboardInterrupt\u001b[0m: Interrupted by user"
          ]
        }
      ],
      "source": [
        "prompt = \"How old are you?\"\n",
        "prompt += \"\\nType 'quit' when you have all your tickets. \"\n",
        "\n",
        "while True:\n",
        "  age = input(prompt)\n",
        "  if(age == 'quit'):\n",
        "    break\n",
        "  age = int(age)\n",
        "  if(age < 3):\n",
        "    print(\"Your ticket is free.\")\n",
        "  elif(age < 12):\n",
        "    print(\"Your ticket will be $10.\")\n",
        "  else:\n",
        "    print(\"Your ticket will be $15.\")"
      ]
    },
    {
      "cell_type": "markdown",
      "metadata": {
        "id": "LDzotjTmbBQq"
      },
      "source": [
        "## Question 18\n",
        "**Three Exits:** Write different versions of either Question 16 or Question 17 that do each of the following at least once:\n",
        "\n",
        "* Use a conditional test in the while statement to stop the loop.\n",
        "* Use an active variable to control how long the loop runs.\n",
        "* Use a break statement to exit the loop when the user enters a 'quit' value."
      ]
    },
    {
      "cell_type": "code",
      "source": [
        "prompt = \"How old are you?\"\n",
        "prompt += \"\\nType 'quit' when you have all your tickets. \"\n",
        "counter = 0\n",
        "while True:\n",
        "  counter = counter+1\n",
        "  if(counter > 15):\n",
        "    print(\"We don't have enough tickets.\")\n",
        "    break\n",
        "  age = input(prompt)\n",
        "  if(age == 'quit'):\n",
        "    break\n",
        "  age = int(age)\n",
        "  if(age < 0):\n",
        "    continue\n",
        "  elif(age < 3):\n",
        "    print(\"Your ticket is free.\")\n",
        "  elif(age < 12):\n",
        "    print(\"Your ticket will be $10.\")\n",
        "  else:\n",
        "    print(\"Your ticket will be $15.\")"
      ],
      "metadata": {
        "colab": {
          "base_uri": "https://localhost:8080/",
          "height": 425
        },
        "id": "bqQiwOHwytrf",
        "outputId": "b6eb2e3e-994f-4331-b109-a24e93f07435"
      },
      "execution_count": 54,
      "outputs": [
        {
          "name": "stdout",
          "output_type": "stream",
          "text": [
            "How old are you?\n",
            "Type 'quit' when you have all your tickets. -1\n"
          ]
        },
        {
          "output_type": "error",
          "ename": "KeyboardInterrupt",
          "evalue": "ignored",
          "traceback": [
            "\u001b[0;31m---------------------------------------------------------------------------\u001b[0m",
            "\u001b[0;31mKeyboardInterrupt\u001b[0m                         Traceback (most recent call last)",
            "\u001b[0;32m<ipython-input-54-c2593a9a42b7>\u001b[0m in \u001b[0;36m<cell line: 4>\u001b[0;34m()\u001b[0m\n\u001b[1;32m      7\u001b[0m     \u001b[0mprint\u001b[0m\u001b[0;34m(\u001b[0m\u001b[0;34m\"We don't have enough tickets.\"\u001b[0m\u001b[0;34m)\u001b[0m\u001b[0;34m\u001b[0m\u001b[0;34m\u001b[0m\u001b[0m\n\u001b[1;32m      8\u001b[0m     \u001b[0;32mbreak\u001b[0m\u001b[0;34m\u001b[0m\u001b[0;34m\u001b[0m\u001b[0m\n\u001b[0;32m----> 9\u001b[0;31m   \u001b[0mage\u001b[0m \u001b[0;34m=\u001b[0m \u001b[0minput\u001b[0m\u001b[0;34m(\u001b[0m\u001b[0mprompt\u001b[0m\u001b[0;34m)\u001b[0m\u001b[0;34m\u001b[0m\u001b[0;34m\u001b[0m\u001b[0m\n\u001b[0m\u001b[1;32m     10\u001b[0m   \u001b[0;32mif\u001b[0m\u001b[0;34m(\u001b[0m\u001b[0mage\u001b[0m \u001b[0;34m==\u001b[0m \u001b[0;34m'quit'\u001b[0m\u001b[0;34m)\u001b[0m\u001b[0;34m:\u001b[0m\u001b[0;34m\u001b[0m\u001b[0;34m\u001b[0m\u001b[0m\n\u001b[1;32m     11\u001b[0m     \u001b[0;32mbreak\u001b[0m\u001b[0;34m\u001b[0m\u001b[0;34m\u001b[0m\u001b[0m\n",
            "\u001b[0;32m/usr/local/lib/python3.10/dist-packages/ipykernel/kernelbase.py\u001b[0m in \u001b[0;36mraw_input\u001b[0;34m(self, prompt)\u001b[0m\n\u001b[1;32m    849\u001b[0m                 \u001b[0;34m\"raw_input was called, but this frontend does not support input requests.\"\u001b[0m\u001b[0;34m\u001b[0m\u001b[0;34m\u001b[0m\u001b[0m\n\u001b[1;32m    850\u001b[0m             )\n\u001b[0;32m--> 851\u001b[0;31m         return self._input_request(str(prompt),\n\u001b[0m\u001b[1;32m    852\u001b[0m             \u001b[0mself\u001b[0m\u001b[0;34m.\u001b[0m\u001b[0m_parent_ident\u001b[0m\u001b[0;34m,\u001b[0m\u001b[0;34m\u001b[0m\u001b[0;34m\u001b[0m\u001b[0m\n\u001b[1;32m    853\u001b[0m             \u001b[0mself\u001b[0m\u001b[0;34m.\u001b[0m\u001b[0m_parent_header\u001b[0m\u001b[0;34m,\u001b[0m\u001b[0;34m\u001b[0m\u001b[0;34m\u001b[0m\u001b[0m\n",
            "\u001b[0;32m/usr/local/lib/python3.10/dist-packages/ipykernel/kernelbase.py\u001b[0m in \u001b[0;36m_input_request\u001b[0;34m(self, prompt, ident, parent, password)\u001b[0m\n\u001b[1;32m    893\u001b[0m             \u001b[0;32mexcept\u001b[0m \u001b[0mKeyboardInterrupt\u001b[0m\u001b[0;34m:\u001b[0m\u001b[0;34m\u001b[0m\u001b[0;34m\u001b[0m\u001b[0m\n\u001b[1;32m    894\u001b[0m                 \u001b[0;31m# re-raise KeyboardInterrupt, to truncate traceback\u001b[0m\u001b[0;34m\u001b[0m\u001b[0;34m\u001b[0m\u001b[0m\n\u001b[0;32m--> 895\u001b[0;31m                 \u001b[0;32mraise\u001b[0m \u001b[0mKeyboardInterrupt\u001b[0m\u001b[0;34m(\u001b[0m\u001b[0;34m\"Interrupted by user\"\u001b[0m\u001b[0;34m)\u001b[0m \u001b[0;32mfrom\u001b[0m \u001b[0;32mNone\u001b[0m\u001b[0;34m\u001b[0m\u001b[0;34m\u001b[0m\u001b[0m\n\u001b[0m\u001b[1;32m    896\u001b[0m             \u001b[0;32mexcept\u001b[0m \u001b[0mException\u001b[0m \u001b[0;32mas\u001b[0m \u001b[0me\u001b[0m\u001b[0;34m:\u001b[0m\u001b[0;34m\u001b[0m\u001b[0;34m\u001b[0m\u001b[0m\n\u001b[1;32m    897\u001b[0m                 \u001b[0mself\u001b[0m\u001b[0;34m.\u001b[0m\u001b[0mlog\u001b[0m\u001b[0;34m.\u001b[0m\u001b[0mwarning\u001b[0m\u001b[0;34m(\u001b[0m\u001b[0;34m\"Invalid Message:\"\u001b[0m\u001b[0;34m,\u001b[0m \u001b[0mexc_info\u001b[0m\u001b[0;34m=\u001b[0m\u001b[0;32mTrue\u001b[0m\u001b[0;34m)\u001b[0m\u001b[0;34m\u001b[0m\u001b[0;34m\u001b[0m\u001b[0m\n",
            "\u001b[0;31mKeyboardInterrupt\u001b[0m: Interrupted by user"
          ]
        }
      ]
    },
    {
      "cell_type": "markdown",
      "metadata": {
        "id": "LKZ2046wbBQx"
      },
      "source": [
        "## Question 19\n",
        "**Deli:** Make a list called `sandwich_orders` and fill it with the names of various sandwiches. Then make an empty list called `finished_sandwiches`. Loop through the list of sandwich orders and print a message for each order, such as `I made your tuna sandwich`. As each sandwich is made, move it to the list of finished sandwiches. After all the sandwiches have been made, print a message listing each sandwich that was made."
      ]
    },
    {
      "cell_type": "code",
      "execution_count": 7,
      "metadata": {
        "id": "rT6sTgCbbBQy",
        "colab": {
          "base_uri": "https://localhost:8080/"
        },
        "outputId": "417a8164-3bab-4dfb-c040-bbb8053a6478"
      },
      "outputs": [
        {
          "output_type": "stream",
          "name": "stdout",
          "text": [
            "Your bread sandwich is ready.\n",
            "Your PB&J sandwich is ready.\n",
            "Your grilled cheese sandwich is ready.\n",
            "Your sub sandwich is ready.\n",
            "Your hoagie sandwich is ready.\n",
            "Your gyro sandwich is ready.\n"
          ]
        }
      ],
      "source": [
        "sandwich_orders = ['gyro', 'hoagie', 'sub', 'grilled cheese', 'PB&J', 'bread']\n",
        "finished_sandwiches = []\n",
        "\n",
        "while sandwich_orders:\n",
        "  current_order = sandwich_orders.pop()\n",
        "  print(f\"Your {current_order} sandwich is ready.\")\n",
        "  finished_sandwiches.append(current_order)"
      ]
    },
    {
      "cell_type": "markdown",
      "metadata": {
        "id": "le_k-ZIGbBQy"
      },
      "source": [
        "## Question 20\n",
        "**No Pastrami:** Using the list `sandwich_orders` from Question 19, make sure the sandwich `pastrami` appears in the list at least three times. Add code near the beginning of your program to print a message saying the deli has run out of pastrami, and then use a `while` loop to remove all occurrences of `pastrami` from `sandwich_orders`. Make sure no pastrami sandwiches end up in `finished_sandwiches`."
      ]
    },
    {
      "cell_type": "code",
      "execution_count": 10,
      "metadata": {
        "id": "B1tKIwkrbBQy",
        "colab": {
          "base_uri": "https://localhost:8080/"
        },
        "outputId": "a4c7643b-49a7-45e9-e22c-649d83bb39f0"
      },
      "outputs": [
        {
          "output_type": "stream",
          "name": "stdout",
          "text": [
            "The deli has run out of pastrami.\n"
          ]
        },
        {
          "output_type": "execute_result",
          "data": {
            "text/plain": [
              "['gyro', 'hoagie', 'sub', 'grilled cheese', 'PB&J', 'bread']"
            ]
          },
          "metadata": {},
          "execution_count": 10
        }
      ],
      "source": [
        "sandwich_orders = ['pastrami', 'pastrami', 'gyro', 'hoagie', 'pastrami', 'sub', 'grilled cheese', 'PB&J', 'bread', 'pastrami']\n",
        "print(\"The deli has run out of pastrami.\")\n",
        "while 'pastrami' in sandwich_orders:\n",
        "  sandwich_orders.remove('pastrami')"
      ]
    },
    {
      "cell_type": "markdown",
      "metadata": {
        "id": "T46FlVUjbBQz"
      },
      "source": [
        "## Question 21\n",
        "**Dream Vacation:** Write a program that polls users about their dream vacation. Write a prompt similar to *If you could visit one place in the world, where would you go?* Include a block of code that prints the results of the poll."
      ]
    },
    {
      "cell_type": "code",
      "execution_count": 19,
      "metadata": {
        "id": "NtGVJRDgbBQz",
        "colab": {
          "base_uri": "https://localhost:8080/"
        },
        "outputId": "6e74be6e-ad98-4d8c-fda2-faceed24d223"
      },
      "outputs": [
        {
          "output_type": "stream",
          "name": "stdout",
          "text": [
            "State your name: Sam\n",
            "If you could go anywhere in the world right now, where would you go? Europe\n",
            "Would anyone else like to answer the poll? g\n",
            "\n",
            "--- Poll Results ---\n",
            "Sam wants to go to Europe.\n"
          ]
        }
      ],
      "source": [
        "results ={}\n",
        "polling = True\n",
        "while polling:\n",
        "  name = input(\"State your name: \")\n",
        "  place = input(\"If you could go anywhere in the world right now, where would you go? \")\n",
        "\n",
        "  results[name] = place\n",
        "\n",
        "  continuing = input(\"Would anyone else like to answer the poll? \")\n",
        "  if(continuing not in ['yes', 'YES', 'Yes', 'Y', 'y']):\n",
        "    polling = False\n",
        "\n",
        "print(\"\\n--- Poll Results ---\")\n",
        "for name, place in results.items():\n",
        "  print(f\"{name} wants to go to {place}.\")"
      ]
    }
  ],
  "metadata": {
    "kernelspec": {
      "display_name": "Python 3 (ipykernel)",
      "language": "python",
      "name": "python3"
    },
    "language_info": {
      "codemirror_mode": {
        "name": "ipython",
        "version": 3
      },
      "file_extension": ".py",
      "mimetype": "text/x-python",
      "name": "python",
      "nbconvert_exporter": "python",
      "pygments_lexer": "ipython3",
      "version": "3.8.10"
    },
    "colab": {
      "provenance": []
    }
  },
  "nbformat": 4,
  "nbformat_minor": 0
}